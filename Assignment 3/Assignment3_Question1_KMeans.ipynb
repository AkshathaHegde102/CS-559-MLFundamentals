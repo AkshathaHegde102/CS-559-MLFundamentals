{
 "cells": [
  {
   "cell_type": "code",
   "execution_count": 34,
   "id": "1bcac16c",
   "metadata": {},
   "outputs": [],
   "source": [
    "import numpy as np\n",
    "import pandas as pd\n",
    "import matplotlib.pyplot as plt\n",
    "%matplotlib inline"
   ]
  },
  {
   "cell_type": "code",
   "execution_count": 35,
   "id": "0bf444f5",
   "metadata": {},
   "outputs": [
    {
     "data": {
      "image/png": "[encoded data removed]",
      "text/plain": [
       "<Figure size 640x480 with 1 Axes>"
      ]
     },
     "metadata": {},
     "output_type": "display_data"
    }
   ],
   "source": [
    "X = np.array([[5.9, 3.2],[4.6, 2.9],[6.2, 2.8],[4.7, 3.2],[5.5, 4.2],[5.0, 3.0],[4.9, 3.1],[6.7, 3.1],[5.1, 3.8],[6.0, 3.0]])\n",
    "\n",
    "μlist = [[6.2, 3.2], [6.6, 3.7], [6.5, 3.0]]\n",
    "μ1 = [6.2, 3.2]   # Red\n",
    "μ2 = [6.6, 3.7]   # Green\n",
    "μ3 = [6.5, 3.0]   # Blue\n",
    "μcolors = ['r','g','b']\n",
    "\n",
    "plt.scatter(X[:,0], X[:,1], s=50,marker='^', color = 'white', edgecolor = 'black')\n",
    "plt.scatter(μlist[0][0], μlist[0][1], s=30, color = 'red')\n",
    "plt.scatter(μlist[1][0], μlist[1][1], s=30, color = 'green')\n",
    "plt.scatter(μlist[2][0], μlist[2][1], s=30, color = 'blue')\n",
    "plt.show()"
   ]
  },
  {
   "cell_type": "code",
   "execution_count": 36,
   "id": "b572e8d5",
   "metadata": {},
   "outputs": [],
   "source": [
    "k = 3    # Number of clusters\n",
    "μ = []   # cluster center μ list"
   ]
  },
  {
   "cell_type": "markdown",
   "id": "9d6862a5",
   "metadata": {},
   "source": [
    "# First Iteration "
   ]
  },
  {
   "cell_type": "code",
   "execution_count": 37,
   "id": "19e3c5ad",
   "metadata": {},
   "outputs": [],
   "source": [
    "# make a list for the μ of each cluster\n",
    "\n",
    "μ = μlist   # μ  =  [[6.2, 3.2], [6.6, 3.7], [6.5, 3.0]]"
   ]
  },
  {
   "cell_type": "code",
   "execution_count": 38,
   "id": "848e8943",
   "metadata": {},
   "outputs": [],
   "source": [
    "# This is the optimization process\n",
    "# contains the 3 cluster lists and datapoints associated\n",
    "\n",
    "red_cluster = []   \n",
    "green_cluster = []\n",
    "blue_cluster = []"
   ]
  },
  {
   "cell_type": "code",
   "execution_count": 39,
   "id": "c85e57ee",
   "metadata": {},
   "outputs": [
    {
     "name": "stdout",
     "output_type": "stream",
     "text": [
      "red cluster\n",
      "[array([5.9, 3.2]), array([4.6, 2.9]), array([4.7, 3.2]), array([5., 3.]), array([4.9, 3.1]), array([5.1, 3.8]), array([6., 3.])]\n",
      "green cluster\n",
      "[array([5.5, 4.2])]\n",
      "blue cluster\n",
      "[array([6.2, 2.8]), array([6.7, 3.1])]\n"
     ]
    }
   ],
   "source": [
    "for datapoint in X:\n",
    "    \n",
    "    # Takes one datapoint, finds distance to all 3 μ, puts them into list Euclidean_distances\n",
    "    Euclidean_distances = [np.sqrt(np.sum((datapoint - μpoints)**2)) for μpoints in μ]\n",
    "    \n",
    "    # Finds the shortest dist to a μ, figure out the binary indicator (which one to choose)\n",
    "    Shortest = Euclidean_distances.index(min(Euclidean_distances))\n",
    "    \n",
    "    #Append the datapoint to the relavent cluster\n",
    "    if Shortest == 0:\n",
    "        red_cluster.append(datapoint)\n",
    "    elif Shortest == 1:\n",
    "        green_cluster.append(datapoint)\n",
    "    else:\n",
    "        blue_cluster.append(datapoint)\n",
    "\n",
    "print('red cluster')\n",
    "print(red_cluster)\n",
    "print('green cluster')\n",
    "print(green_cluster)\n",
    "print('blue cluster')\n",
    "print(blue_cluster)"
   ]
  },
  {
   "cell_type": "code",
   "execution_count": 40,
   "id": "a4f41788",
   "metadata": {},
   "outputs": [
    {
     "data": {
      "text/plain": [
       "[array([5.17142857, 3.17142857]), array([5.5, 4.2]), array([6.45, 2.95])]"
      ]
     },
     "execution_count": 40,
     "metadata": {},
     "output_type": "execute_result"
    }
   ],
   "source": [
    "# Updating the μ values\n",
    "# Average of the current clusters, update μ\n",
    "\n",
    "μ[0] = np.average(red_cluster,axis=0) \n",
    "μ[1] = np.average(green_cluster,axis=0)\n",
    "μ[2] = np.average(blue_cluster,axis=0)\n",
    "μ"
   ]
  },
  {
   "cell_type": "code",
   "execution_count": 41,
   "id": "631b919c",
   "metadata": {},
   "outputs": [
    {
     "data": {
      "image/png": "[encoded data removed]",
      "text/plain": [
       "<Figure size 640x480 with 1 Axes>"
      ]
     },
     "metadata": {},
     "output_type": "display_data"
    }
   ],
   "source": [
    "# Display the data points and which μ they associate\n",
    "\n",
    "#for μpoint in μ:\n",
    "plt.scatter(μ[0][0], μ[0][1], marker=\"o\", color = μcolors[0], s=30)\n",
    "plt.scatter(μ[1][0], μ[1][1], marker=\"o\", color = μcolors[1], s=30)\n",
    "plt.scatter(μ[2][0], μ[2][1], marker=\"o\", color = μcolors[2], s=30)\n",
    "\n",
    "\n",
    "for datapoint in red_cluster:    #plots all the datapoints of this cluster\n",
    "    plt.scatter(datapoint[0], datapoint[1], marker=\"^\", color=μcolors[0], s=50, edgecolor = 'black')\n",
    "for datapoint in green_cluster:    #plots all the datapoints of this cluster\n",
    "    plt.scatter(datapoint[0], datapoint[1], marker=\"^\", color=μcolors[1], s=50, edgecolor = 'black')\n",
    "for datapoint in blue_cluster:    #plots all the datapoints of this cluster\n",
    "    plt.scatter(datapoint[0], datapoint[1], marker=\"^\", color=μcolors[2], s=50, edgecolor = 'black')\n",
    "        \n",
    "plt.show()"
   ]
  },
  {
   "cell_type": "markdown",
   "id": "5ac22faa",
   "metadata": {},
   "source": [
    "## Question (1)"
   ]
  },
  {
   "cell_type": "markdown",
   "id": "f9c690d6",
   "metadata": {},
   "source": [
    "(1) [10pt] What’s the center of the first cluster (red) after one iteration?"
   ]
  },
  {
   "cell_type": "code",
   "execution_count": 42,
   "id": "dbc8516d",
   "metadata": {},
   "outputs": [
    {
     "name": "stdout",
     "output_type": "stream",
     "text": [
      "The center of the first cluster (red) after one iteration is\n"
     ]
    },
    {
     "data": {
      "text/plain": [
       "[5.171, 3.171]"
      ]
     },
     "execution_count": 42,
     "metadata": {},
     "output_type": "execute_result"
    }
   ],
   "source": [
    "print(\"The center of the first cluster (red) after one iteration is\")\n",
    "[μ[0][0].round(3),μ[0][1].round(3)]"
   ]
  },
  {
   "cell_type": "markdown",
   "id": "dcd87672",
   "metadata": {},
   "source": [
    "# Second Iteration"
   ]
  },
  {
   "cell_type": "code",
   "execution_count": 43,
   "id": "35957845",
   "metadata": {},
   "outputs": [
    {
     "data": {
      "text/plain": [
       "[array([5.17142857, 3.17142857]), array([5.5, 4.2]), array([6.45, 2.95])]"
      ]
     },
     "execution_count": 43,
     "metadata": {},
     "output_type": "execute_result"
    }
   ],
   "source": [
    "# Current μ values in list\n",
    "μ"
   ]
  },
  {
   "cell_type": "code",
   "execution_count": 44,
   "id": "00f98571",
   "metadata": {},
   "outputs": [],
   "source": [
    "# Empty the cluster assignments\n",
    "# contains the 3 cluster lists and datapoints associated\n",
    "\n",
    "red_cluster = []   \n",
    "green_cluster = []\n",
    "blue_cluster = []"
   ]
  },
  {
   "cell_type": "code",
   "execution_count": 45,
   "id": "11c846ec",
   "metadata": {},
   "outputs": [
    {
     "name": "stdout",
     "output_type": "stream",
     "text": [
      "red cluster\n",
      "[array([4.6, 2.9]), array([4.7, 3.2]), array([5., 3.]), array([4.9, 3.1])]\n",
      "green cluster\n",
      "[array([5.5, 4.2]), array([5.1, 3.8])]\n",
      "blue cluster\n",
      "[array([5.9, 3.2]), array([6.2, 2.8]), array([6.7, 3.1]), array([6., 3.])]\n"
     ]
    }
   ],
   "source": [
    "for datapoint in X:\n",
    "    \n",
    "    # Takes one datapoint, finds distance to all 3 μ, puts them into list Euclidean_distances\n",
    "    Euclidean_distances = [np.sqrt(np.sum((datapoint - μpoints)**2)) for μpoints in μ]\n",
    "    \n",
    "    # Finds the shortest dist to a μ, figure out the binary indicator (which one to choose)\n",
    "    Shortest = Euclidean_distances.index(min(Euclidean_distances))\n",
    "    \n",
    "    #Append the datapoint to the relavent cluster\n",
    "    if Shortest == 0:\n",
    "        red_cluster.append(datapoint)\n",
    "    elif Shortest == 1:\n",
    "        green_cluster.append(datapoint)\n",
    "    else:\n",
    "        blue_cluster.append(datapoint)\n",
    "\n",
    "print('red cluster')\n",
    "print(red_cluster)\n",
    "print('green cluster')\n",
    "print(green_cluster)\n",
    "print('blue cluster')\n",
    "print(blue_cluster)"
   ]
  },
  {
   "cell_type": "code",
   "execution_count": 46,
   "id": "2c28bb6e",
   "metadata": {},
   "outputs": [
    {
     "data": {
      "text/plain": [
       "[array([4.8 , 3.05]), array([5.3, 4. ]), array([6.2  , 3.025])]"
      ]
     },
     "execution_count": 46,
     "metadata": {},
     "output_type": "execute_result"
    }
   ],
   "source": [
    "# Updating the μ values\n",
    "# Average of the current clusters, update μ\n",
    "\n",
    "μ[0] = np.average(red_cluster,axis=0) \n",
    "μ[1] = np.average(green_cluster,axis=0)\n",
    "μ[2] = np.average(blue_cluster,axis=0)\n",
    "μ"
   ]
  },
  {
   "cell_type": "code",
   "execution_count": 47,
   "id": "2ba16e2a",
   "metadata": {},
   "outputs": [
    {
     "data": {
      "image/png": "[encoded data removed]",
      "text/plain": [
       "<Figure size 640x480 with 1 Axes>"
      ]
     },
     "metadata": {},
     "output_type": "display_data"
    }
   ],
   "source": [
    "# Display the data points and which μ they associate\n",
    "\n",
    "#for μpoint in μ:\n",
    "plt.scatter(μ[0][0], μ[0][1], marker=\"o\", color = μcolors[0], s=30)\n",
    "plt.scatter(μ[1][0], μ[1][1], marker=\"o\", color = μcolors[1], s=30)\n",
    "plt.scatter(μ[2][0], μ[2][1], marker=\"o\", color = μcolors[2], s=30)\n",
    "\n",
    "\n",
    "for datapoint in red_cluster:    #plots all the datapoints of this cluster\n",
    "    plt.scatter(datapoint[0], datapoint[1], marker=\"^\", color=μcolors[0], s=50, edgecolor = 'black')\n",
    "for datapoint in green_cluster:    #plots all the datapoints of this cluster\n",
    "    plt.scatter(datapoint[0], datapoint[1], marker=\"^\", color=μcolors[1], s=50, edgecolor = 'black')\n",
    "for datapoint in blue_cluster:    #plots all the datapoints of this cluster\n",
    "    plt.scatter(datapoint[0], datapoint[1], marker=\"^\", color=μcolors[2], s=50, edgecolor = 'black')\n",
    "        \n",
    "plt.show()"
   ]
  },
  {
   "cell_type": "markdown",
   "id": "dc2ac4c6",
   "metadata": {},
   "source": [
    "## Question (2)"
   ]
  },
  {
   "cell_type": "markdown",
   "id": "e8abd118",
   "metadata": {},
   "source": [
    "(2) [5pt] What’s the center of the second cluster (green) after two iteration?"
   ]
  },
  {
   "cell_type": "code",
   "execution_count": 48,
   "id": "a0dd5a78",
   "metadata": {},
   "outputs": [
    {
     "name": "stdout",
     "output_type": "stream",
     "text": [
      "The center of the second cluster (green) after two iterations is\n"
     ]
    },
    {
     "data": {
      "text/plain": [
       "[5.3, 4.0]"
      ]
     },
     "execution_count": 48,
     "metadata": {},
     "output_type": "execute_result"
    }
   ],
   "source": [
    "print(\"The center of the second cluster (green) after two iterations is\")\n",
    "[μ[1][0].round(3),μ[1][1].round(3)]"
   ]
  },
  {
   "cell_type": "markdown",
   "id": "938626dc",
   "metadata": {},
   "source": [
    "# Third Iteration"
   ]
  },
  {
   "cell_type": "code",
   "execution_count": 49,
   "id": "383142ae",
   "metadata": {},
   "outputs": [
    {
     "data": {
      "text/plain": [
       "[array([4.8 , 3.05]), array([5.3, 4. ]), array([6.2  , 3.025])]"
      ]
     },
     "execution_count": 49,
     "metadata": {},
     "output_type": "execute_result"
    }
   ],
   "source": [
    "# Current μ values in list\n",
    "μ"
   ]
  },
  {
   "cell_type": "code",
   "execution_count": 50,
   "id": "5b05e728",
   "metadata": {},
   "outputs": [],
   "source": [
    "# Empty the cluster assignments\n",
    "# contains the 3 cluster lists and datapoints associated\n",
    "\n",
    "red_cluster = []   \n",
    "green_cluster = []\n",
    "blue_cluster = []"
   ]
  },
  {
   "cell_type": "code",
   "execution_count": 51,
   "id": "39a05085",
   "metadata": {},
   "outputs": [
    {
     "name": "stdout",
     "output_type": "stream",
     "text": [
      "red cluster\n",
      "[array([4.6, 2.9]), array([4.7, 3.2]), array([5., 3.]), array([4.9, 3.1])]\n",
      "green cluster\n",
      "[array([5.5, 4.2]), array([5.1, 3.8])]\n",
      "blue cluster\n",
      "[array([5.9, 3.2]), array([6.2, 2.8]), array([6.7, 3.1]), array([6., 3.])]\n"
     ]
    }
   ],
   "source": [
    "for datapoint in X:\n",
    "    \n",
    "    # Takes one datapoint, finds distance to all 3 μ, puts them into list Euclidean_distances\n",
    "    Euclidean_distances = [np.sqrt(np.sum((datapoint - μpoints)**2)) for μpoints in μ]\n",
    "    \n",
    "    # Finds the shortest dist to a μ, figure out the binary indicator (which one to choose)\n",
    "    Shortest = Euclidean_distances.index(min(Euclidean_distances))\n",
    "    \n",
    "    #Append the datapoint to the relavent cluster\n",
    "    if Shortest == 0:\n",
    "        red_cluster.append(datapoint)\n",
    "    elif Shortest == 1:\n",
    "        green_cluster.append(datapoint)\n",
    "    else:\n",
    "        blue_cluster.append(datapoint)\n",
    "\n",
    "print('red cluster')\n",
    "print(red_cluster)\n",
    "print('green cluster')\n",
    "print(green_cluster)\n",
    "print('blue cluster')\n",
    "print(blue_cluster)"
   ]
  },
  {
   "cell_type": "code",
   "execution_count": 52,
   "id": "6fa90691",
   "metadata": {},
   "outputs": [
    {
     "data": {
      "text/plain": [
       "[array([4.8 , 3.05]), array([5.3, 4. ]), array([6.2  , 3.025])]"
      ]
     },
     "execution_count": 52,
     "metadata": {},
     "output_type": "execute_result"
    }
   ],
   "source": [
    "# Updating the μ values\n",
    "# Average of the current clusters, update μ\n",
    "\n",
    "μ[0] = np.average(red_cluster,axis=0) \n",
    "μ[1] = np.average(green_cluster,axis=0)\n",
    "μ[2] = np.average(blue_cluster,axis=0)\n",
    "μ"
   ]
  },
  {
   "cell_type": "code",
   "execution_count": 53,
   "id": "3c44132a",
   "metadata": {},
   "outputs": [
    {
     "data": {
      "image/png": "[encoded data removed]",
      "text/plain": [
       "<Figure size 640x480 with 1 Axes>"
      ]
     },
     "metadata": {},
     "output_type": "display_data"
    }
   ],
   "source": [
    "# Display the data points and which μ they associate\n",
    "\n",
    "#for μpoint in μ:\n",
    "plt.scatter(μ[0][0], μ[0][1], marker=\"o\", color = μcolors[0], s=30)\n",
    "plt.scatter(μ[1][0], μ[1][1], marker=\"o\", color = μcolors[1], s=30)\n",
    "plt.scatter(μ[2][0], μ[2][1], marker=\"o\", color = μcolors[2], s=30)\n",
    "\n",
    "\n",
    "for datapoint in red_cluster:    #plots all the datapoints of this cluster\n",
    "    plt.scatter(datapoint[0], datapoint[1], marker=\"^\", color=μcolors[0], s=50, edgecolor = 'black')\n",
    "for datapoint in green_cluster:    #plots all the datapoints of this cluster\n",
    "    plt.scatter(datapoint[0], datapoint[1], marker=\"^\", color=μcolors[1], s=50, edgecolor = 'black')\n",
    "for datapoint in blue_cluster:    #plots all the datapoints of this cluster\n",
    "    plt.scatter(datapoint[0], datapoint[1], marker=\"^\", color=μcolors[2], s=50, edgecolor = 'black')\n",
    "        \n",
    "plt.show()"
   ]
  },
  {
   "cell_type": "markdown",
   "id": "3a5bd250",
   "metadata": {},
   "source": [
    "## Question (3)"
   ]
  },
  {
   "cell_type": "markdown",
   "id": "0c12be89",
   "metadata": {},
   "source": [
    "(3) [5pt] What’s the center of the third cluster (blue) when the clustering converges?"
   ]
  },
  {
   "cell_type": "markdown",
   "id": "7b3ab23a",
   "metadata": {},
   "source": [
    " We notice that the clusters have been converged"
   ]
  },
  {
   "cell_type": "code",
   "execution_count": 54,
   "id": "83c3b653",
   "metadata": {},
   "outputs": [
    {
     "name": "stdout",
     "output_type": "stream",
     "text": [
      "The center of the third cluster (blue) when the clustering converges is\n"
     ]
    },
    {
     "data": {
      "text/plain": [
       "[6.2, 3.025]"
      ]
     },
     "execution_count": 54,
     "metadata": {},
     "output_type": "execute_result"
    }
   ],
   "source": [
    "print(\"The center of the third cluster (blue) when the clustering converges is\")\n",
    "[μ[2][0].round(3),μ[2][1].round(3)]"
   ]
  },
  {
   "cell_type": "markdown",
   "id": "8ca0d304",
   "metadata": {},
   "source": [
    "## Question (4)"
   ]
  },
  {
   "cell_type": "markdown",
   "id": "11e432f6",
   "metadata": {},
   "source": [
    "(4) [5pt] How many iterations are required for the clusters to converge?"
   ]
  },
  {
   "cell_type": "markdown",
   "id": "bc492e49",
   "metadata": {},
   "source": [
    "It took 2 iterations for the clusters to converge.\n",
    "I have done a third iteration to confirm the convergence."
   ]
  },
  {
   "cell_type": "code",
   "execution_count": null,
   "id": "91ae7b9b",
   "metadata": {},
   "outputs": [],
   "source": []
  }
 ],
 "metadata": {
  "kernelspec": {
   "display_name": "Python 3 (ipykernel)",
   "language": "python",
   "name": "python3"
  },
  "language_info": {
   "codemirror_mode": {
    "name": "ipython",
    "version": 3
   },
   "file_extension": ".py",
   "mimetype": "text/x-python",
   "name": "python",
   "nbconvert_exporter": "python",
   "pygments_lexer": "ipython3",
   "version": "3.9.13"
  }
 },
 "nbformat": 4,
 "nbformat_minor": 5
}
